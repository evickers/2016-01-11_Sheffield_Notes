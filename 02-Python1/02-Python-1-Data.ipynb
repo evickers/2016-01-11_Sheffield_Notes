{
 "cells": [
  {
   "cell_type": "markdown",
   "metadata": {},
   "source": [
    "# Python 1 - Introduction to Python\n",
    "\n",
    "<br/>\n",
    "\n",
    "<section class=\"objectives panel panel-warning\">\n",
    "<div class=\"panel-heading\">\n",
    "<h2><span class=\"fa fa-certificate\"></span> Learning Objectives </h2>\n",
    "</div>\n",
    "<ul>\n",
    "<li> Get used to the IPython Notebook. </li>\n",
    "<li> Understand what a library is and how to use it.</li>\n",
    "<li> Read tabular data from a file into a program.</li>\n",
    "<li> Assign values to variables.</li>\n",
    "<li> Select individual values and subsections from data.</li>\n",
    "<li> Perform operations on arrays of data.</li>\n",
    "<li> Display simple graphs.</li>\n",
    "</ul>\n",
    "\n",
    "</section>\n",
    "\n",
    "\n",
    "\n",
    "## IPython Notebook\n",
    "\n",
    "IPython notebook is a web based interactive computational environment with code, text, mathematics, plot and exectution all in the same place. It's how we'll be doing the whole course, though we wouldn't use it for more script based programming, for that we suggest you use Spyder or your pet text editor.\n",
    "\n",
    "A few shortcuts to make your life easier:\n",
    "\n",
    "- crtl + enter - Run the contents of this cell\n",
    "- B - moves out from inside this cell and selects the entire cell\n",
    "- esc - moves from this window to select the whole box\n",
    "- enter - will move you back in\n",
    "- M - changes the whole box to markdown\n",
    "- Y - changes the whole box to code\n",
    "\n",
    "## Libraries\n",
    "\n",
    "Words are useful, but what’s more useful are the sentences and stories we build with them. Similarly, while a lot of powerful tools are built into languages like Python, even more live in the libraries they are used to build.\n",
    "\n",
    "Numpy is one of the essential libraries we use in python. We can import it like so:"
   ]
  },
  {
   "cell_type": "code",
   "execution_count": 2,
   "metadata": {
    "collapsed": false
   },
   "outputs": [],
   "source": [
    "import numpy"
   ]
  },
  {
   "cell_type": "markdown",
   "metadata": {},
   "source": [
    "We're going to demonstrate how to use the NumPy library with some statistics on arthuritis patient inflammmation. We can import csv files, where the data currently is, like so:"
   ]
  },
  {
   "cell_type": "code",
   "execution_count": 5,
   "metadata": {
    "collapsed": false
   },
   "outputs": [],
   "source": [
    "p_data = numpy.loadtxt(fname='data/inflammation-01.csv', delimiter=',')"
   ]
  },
  {
   "cell_type": "markdown",
   "metadata": {},
   "source": [
    "So lets examine this. By typing `numpy.loadtxt()` we're saying, from the numpy library use the loadtxt function. It is the equivalent of selecting a file from a directory, or saying thing.component, for example, car.tyres might say, from the car I would like to inspect the tyres.\n",
    "\n",
    "`loadtxt()` is a function call, which in this case has two arguments passed to it. The filename and the delimiter, both need to be input as character strings.\n",
    "\n",
    "### Strings\n",
    "\n",
    "Character strings are sequences of characters enclosed in either `\"\"` or `''`. We typically use these in keyword argument calls to function, as above, and output to the console, more of which later.\n",
    "\n",
    "Now if we type the variable the file is attached to into the interpreter, we see the data held within it as an array, with the delimiter `,` seperating all the values.\n"
   ]
  },
  {
   "cell_type": "code",
   "execution_count": 6,
   "metadata": {
    "collapsed": false
   },
   "outputs": [
    {
     "data": {
      "text/plain": [
       "array([[ 0.,  0.,  1., ...,  3.,  0.,  0.],\n",
       "       [ 0.,  1.,  2., ...,  1.,  0.,  1.],\n",
       "       [ 0.,  1.,  1., ...,  2.,  1.,  1.],\n",
       "       ..., \n",
       "       [ 0.,  1.,  1., ...,  1.,  1.,  1.],\n",
       "       [ 0.,  0.,  0., ...,  0.,  2.,  0.],\n",
       "       [ 0.,  0.,  1., ...,  1.,  1.,  0.]])"
      ]
     },
     "execution_count": 6,
     "metadata": {},
     "output_type": "execute_result"
    }
   ],
   "source": [
    "p_data"
   ]
  },
  {
   "cell_type": "markdown",
   "metadata": {},
   "source": [
    "### Variables\n",
    "\n",
    "The fact that this array is saved to a variable means that the array is stored in the computer's memory. Variables are an essential part of programming. Lets look at them in more detail. We can assign values to variables\n"
   ]
  },
  {
   "cell_type": "code",
   "execution_count": 7,
   "metadata": {
    "collapsed": true
   },
   "outputs": [],
   "source": [
    "temp = 34"
   ]
  },
  {
   "cell_type": "markdown",
   "metadata": {},
   "source": [
    "Reassign them"
   ]
  },
  {
   "cell_type": "code",
   "execution_count": 9,
   "metadata": {
    "collapsed": false
   },
   "outputs": [
    {
     "name": "stdout",
     "output_type": "stream",
     "text": [
      "37\n"
     ]
    }
   ],
   "source": [
    "temp = 37\n",
    "print(temp)"
   ]
  },
  {
   "cell_type": "markdown",
   "metadata": {},
   "source": [
    "Do some fancy printing with them, throwing in a bit of string usage too.\n",
    "<br/>\n",
    "\n",
    "<section class=\"objectives panel panel-warnin<div class=\"panel-heading\">\n",
    "<h2><span class=\"fa fa-certificate\"></span> Print Formatting </h2>\n",
    "</div>\n",
    "<br/>\n",
    "We use `.format` at the end of a string to insert variables which are not strings into a string. If we have multiple items to insert then we use `{0}, {1}, {2}... etc` and order them accordinglt in the format `()`.\n",
    "</section>\n"
   ]
  },
  {
   "cell_type": "code",
   "execution_count": 15,
   "metadata": {
    "collapsed": false
   },
   "outputs": [
    {
     "name": "stdout",
     "output_type": "stream",
     "text": [
      "The temperature of the thing is 37, take it back 87\n"
     ]
    }
   ],
   "source": [
    "print(\"The temperature of the thing is {0}, take it back {1}\".format(temp, temp+50))"
   ]
  },
  {
   "cell_type": "markdown",
   "metadata": {},
   "source": [
    "We can also use variables to define other variables"
   ]
  },
  {
   "cell_type": "code",
   "execution_count": 13,
   "metadata": {
    "collapsed": false
   },
   "outputs": [
    {
     "name": "stdout",
     "output_type": "stream",
     "text": [
      "310\n"
     ]
    }
   ],
   "source": [
    "temp_K = temp + 273\n",
    "print(temp_K)"
   ]
  },
  {
   "cell_type": "markdown",
   "metadata": {},
   "source": [
    "and then we can change the temperature in Kelvin"
   ]
  },
  {
   "cell_type": "code",
   "execution_count": 16,
   "metadata": {
    "collapsed": false
   },
   "outputs": [
    {
     "name": "stdout",
     "output_type": "stream",
     "text": [
      "37\n"
     ]
    }
   ],
   "source": [
    "temp_K = temp_K + 30\n",
    "print(temp)"
   ]
  },
  {
   "cell_type": "markdown",
   "metadata": {},
   "source": [
    "Note that changing the temperature in Kelvin does not change the previous temperature we used to calculate it in the first place"
   ]
  },
  {
   "cell_type": "code",
   "execution_count": 17,
   "metadata": {
    "collapsed": false
   },
   "outputs": [
    {
     "name": "stdout",
     "output_type": "stream",
     "text": [
      "Variable   Type       Data/Info\n",
      "-------------------------------\n",
      "numpy      module     <module 'numpy' from 'C:\\<...>ages\\numpy\\__init__.pyc'>\n",
      "p_data     ndarray    60Lx40L: 2400 elems, type `float64`, 19200 bytes\n",
      "temp       int        37\n",
      "temp_K     int        340\n"
     ]
    }
   ],
   "source": [
    "%whos"
   ]
  },
  {
   "cell_type": "markdown",
   "metadata": {},
   "source": [
    "<section class=\"objectives panel panel-warning\">\n",
    "<div class=\"panel-heading\">\n",
    "<h2><span class=\"fa fa-certificate\"></span> Tip </h2>\n",
    "</div>\n",
    "<br/>\n",
    "You can use the `%whos` command at any time to see what variables you have created and what modules you have loaded into the computers memory. As this is an IPython command, it will only work if you are in an IPython terminal or the Jupyter Notebook.\n",
    "</section>"
   ]
  },
  {
   "cell_type": "code",
   "execution_count": null,
   "metadata": {
    "collapsed": false
   },
   "outputs": [],
   "source": []
  },
  {
   "cell_type": "markdown",
   "metadata": {},
   "source": [
    "## Arrays\n",
    "\n",
    "Now back to the patients. We have the patient infomation stored in memory as the variable `p_data`, and we can check it's still there with `type`, lets find out more about the array."
   ]
  },
  {
   "cell_type": "code",
   "execution_count": 18,
   "metadata": {
    "collapsed": false
   },
   "outputs": [
    {
     "name": "stdout",
     "output_type": "stream",
     "text": [
      "(<type 'numpy.ndarray'>, (60L, 40L))\n"
     ]
    }
   ],
   "source": [
    "print(type(p_data), p_data.shape)"
   ]
  },
  {
   "cell_type": "markdown",
   "metadata": {},
   "source": [
    "These two commands tell us that the variable is a NumPy array and then the extent of the array. In this case the rows are individual patients and the columns are their daily inflammation measurements. In this case we have 60 rows and 40 columns, known as the dimensions of the array. Using these attributes we can index the data to extract single data values:"
   ]
  },
  {
   "cell_type": "code",
   "execution_count": 20,
   "metadata": {
    "collapsed": false
   },
   "outputs": [
    {
     "name": "stdout",
     "output_type": "stream",
     "text": [
      "12.0\n",
      "0.0\n"
     ]
    }
   ],
   "source": [
    "print(p_data[12,15])\n",
    "print(p_data[0,0])"
   ]
  },
  {
   "cell_type": "markdown",
   "metadata": {},
   "source": [
    "<section class=\"objectives panel panel-warning\">\n",
    "<div class=\"panel-heading\">\n",
    "<h2><span class=\"fa fa-certificate\"></span> Indexing </h2>\n",
    "</div>\n",
    "<br/>\n",
    "What may also surprise you is that when Python displays an array, it shows the element with index [0, 0] in the upper left corner rather than the lower left. This is consistent with the way mathematicians draw matrices, but different from the Cartesian coordinates. The indices are (row, column) instead of (column, row) for the same reason, which can be confusing when plotting data.\n",
    "\n",
    "</section>"
   ]
  },
  {
   "cell_type": "markdown",
   "metadata": {},
   "source": [
    "We can also index a specific row or column. This can my done by using a colon in our indexing. For example, `p_data[:,15]` will give us column 15:"
   ]
  },
  {
   "cell_type": "code",
   "execution_count": 21,
   "metadata": {
    "collapsed": false
   },
   "outputs": [
    {
     "data": {
      "text/plain": [
       "array([  4.,   4.,  15.,   8.,  10.,  15.,  13.,   9.,  11.,   6.,   3.,\n",
       "         8.,  12.,   3.,   5.,  10.,  11.,   4.,  11.,  13.,  15.,   5.,\n",
       "        14.,  13.,   4.,   9.,  13.,   6.,   7.,   6.,  14.,   3.,  15.,\n",
       "         4.,  15.,  11.,   7.,  10.,  15.,   6.,   5.,   6.,  15.,  11.,\n",
       "        15.,   6.,  11.,  15.,  14.,   4.,  10.,  15.,  11.,   6.,  13.,\n",
       "         8.,   4.,  13.,  12.,   9.])"
      ]
     },
     "execution_count": 21,
     "metadata": {},
     "output_type": "execute_result"
    }
   ],
   "source": [
    "p_data[:,15]"
   ]
  },
  {
   "cell_type": "markdown",
   "metadata": {},
   "source": [
    "and `p_data[15,:]` gives us the 15 row. The `:` says give me all the elements in this domain."
   ]
  },
  {
   "cell_type": "code",
   "execution_count": 22,
   "metadata": {
    "collapsed": false
   },
   "outputs": [
    {
     "data": {
      "text/plain": [
       "array([  0.,   1.,   1.,   0.,   1.,   2.,   4.,   3.,   6.,   4.,   7.,\n",
       "         5.,   5.,   7.,   5.,  10.,   7.,   8.,  18.,  17.,   9.,   8.,\n",
       "        12.,  11.,  11.,  11.,  14.,   6.,  11.,   2.,  10.,   9.,   5.,\n",
       "         6.,   5.,   3.,   4.,   2.,   2.,   0.])"
      ]
     },
     "execution_count": 22,
     "metadata": {},
     "output_type": "execute_result"
    }
   ],
   "source": [
    "p_data[15,:]"
   ]
  },
  {
   "cell_type": "markdown",
   "metadata": {},
   "source": [
    "Thus we can make the domain smaller and essentially crop the array. By using the colon between the two limits:"
   ]
  },
  {
   "cell_type": "code",
   "execution_count": 24,
   "metadata": {
    "collapsed": false
   },
   "outputs": [
    {
     "name": "stdout",
     "output_type": "stream",
     "text": [
      "[[  5.   8.   7.  10.  13.   3.   7.  13.  15.  18.]\n",
      " [  2.   8.  11.   5.   5.   8.  14.  11.   6.  11.]\n",
      " [  9.   9.   3.  11.   6.  12.   4.  17.  13.  15.]\n",
      " [  5.   6.   3.   6.  13.   3.  10.  13.   9.  16.]\n",
      " [  3.   3.  10.   7.  13.   5.   7.  17.   6.   9.]\n",
      " [  7.   5.   5.   7.   5.  10.   7.   8.  18.  17.]\n",
      " [  3.   2.  10.   7.   9.  11.  12.   5.  12.   9.]\n",
      " [  4.   2.  12.   6.  12.   4.  14.   7.   8.  14.]\n",
      " [  4.   7.  11.   9.   8.  11.  15.  17.  11.  12.]\n",
      " [  3.   3.  12.  13.  11.  13.   6.   5.   9.  16.]]\n"
     ]
    }
   ],
   "source": [
    "crop_array = p_data[10:20,10:20]\n",
    "print(crop_array)"
   ]
  },
  {
   "cell_type": "markdown",
   "metadata": {},
   "source": [
    "Arrays also know how to perform common mathematical operations on their values. The simplest operations with data are arithmetic: add, subtract, multiply, and divide. When you do such operations on arrays, the operation is done on each individual element of the array. Thus:"
   ]
  },
  {
   "cell_type": "code",
   "execution_count": 25,
   "metadata": {
    "collapsed": false
   },
   "outputs": [
    {
     "name": "stdout",
     "output_type": "stream",
     "text": [
      "[[ 10.  16.  14.  20.  26.   6.  14.  26.  30.  36.]\n",
      " [  4.  16.  22.  10.  10.  16.  28.  22.  12.  22.]\n",
      " [ 18.  18.   6.  22.  12.  24.   8.  34.  26.  30.]\n",
      " [ 10.  12.   6.  12.  26.   6.  20.  26.  18.  32.]\n",
      " [  6.   6.  20.  14.  26.  10.  14.  34.  12.  18.]\n",
      " [ 14.  10.  10.  14.  10.  20.  14.  16.  36.  34.]\n",
      " [  6.   4.  20.  14.  18.  22.  24.  10.  24.  18.]\n",
      " [  8.   4.  24.  12.  24.   8.  28.  14.  16.  28.]\n",
      " [  8.  14.  22.  18.  16.  22.  30.  34.  22.  24.]\n",
      " [  6.   6.  24.  26.  22.  26.  12.  10.  18.  32.]]\n"
     ]
    }
   ],
   "source": [
    "double_array = crop_array*2.0\n",
    "print(double_array)"
   ]
  },
  {
   "cell_type": "markdown",
   "metadata": {},
   "source": [
    "This will create a new array whose elements have the value of two times the value of the corresponding elements in `crop_arr`. However what if instead of taking an array and doing arithmetic with a single value (as above) you did the arithmetic operation with another array of the same shape, the operation will be done on corresponding elements of the two arrays. Thus:"
   ]
  },
  {
   "cell_type": "code",
   "execution_count": 26,
   "metadata": {
    "collapsed": false
   },
   "outputs": [
    {
     "name": "stdout",
     "output_type": "stream",
     "text": [
      "[[ 15.  24.  21.  30.  39.   9.  21.  39.  45.  54.]\n",
      " [  6.  24.  33.  15.  15.  24.  42.  33.  18.  33.]\n",
      " [ 27.  27.   9.  33.  18.  36.  12.  51.  39.  45.]\n",
      " [ 15.  18.   9.  18.  39.   9.  30.  39.  27.  48.]\n",
      " [  9.   9.  30.  21.  39.  15.  21.  51.  18.  27.]\n",
      " [ 21.  15.  15.  21.  15.  30.  21.  24.  54.  51.]\n",
      " [  9.   6.  30.  21.  27.  33.  36.  15.  36.  27.]\n",
      " [ 12.   6.  36.  18.  36.  12.  42.  21.  24.  42.]\n",
      " [ 12.  21.  33.  27.  24.  33.  45.  51.  33.  36.]\n",
      " [  9.   9.  36.  39.  33.  39.  18.  15.  27.  48.]]\n"
     ]
    }
   ],
   "source": [
    "triple_array = double_array + crop_array\n",
    "print(triple_array)"
   ]
  },
  {
   "cell_type": "markdown",
   "metadata": {},
   "source": [
    "### Arrays and Statistics\n",
    "\n",
    "Often, we want to do more than add, subtract, multiply, and divide values of data. Arrays also know how to do more complex operations on their values. If we want to find the average inflammation for all patients on all days, for example, we can just ask the array for its mean value"
   ]
  },
  {
   "cell_type": "code",
   "execution_count": 28,
   "metadata": {
    "collapsed": false
   },
   "outputs": [
    {
     "name": "stdout",
     "output_type": "stream",
     "text": [
      "6.14875\n"
     ]
    }
   ],
   "source": [
    "print(p_data.mean())"
   ]
  },
  {
   "cell_type": "markdown",
   "metadata": {},
   "source": [
    "`mean` is a method of the array, i.e., a function that belongs to it in the same way that the member `shape` does. If variables are nouns, methods are verbs: they are what the thing in question knows how to do. We need empty parentheses for `data.mean()`, even when we’re not passing in any parameters, to tell Python to go and do something for us. `data.shape` doesn’t need `()` because it is just a description but `data.mean()` requires the `()` because it is an action."
   ]
  },
  {
   "cell_type": "code",
   "execution_count": 30,
   "metadata": {
    "collapsed": false
   },
   "outputs": [
    {
     "name": "stdout",
     "output_type": "stream",
     "text": [
      "20.0\n",
      "0.0\n",
      "4.61383319712\n"
     ]
    }
   ],
   "source": [
    "print(p_data.max())\n",
    "print(p_data.min())\n",
    "print(p_data.std())"
   ]
  },
  {
   "cell_type": "markdown",
   "metadata": {},
   "source": [
    "When analyzing data, though, we often want to look at partial statistics, such as the maximum value per patient or the average value per day. One way to do this is to create a new temporary array of the data we want, then ask it to do the calculation:"
   ]
  },
  {
   "cell_type": "code",
   "execution_count": 32,
   "metadata": {
    "collapsed": false
   },
   "outputs": [
    {
     "name": "stdout",
     "output_type": "stream",
     "text": [
      "5.45\n",
      "18.0\n"
     ]
    }
   ],
   "source": [
    "patient_0 = p_data[0,:]\n",
    "print(patient_0.mean())\n",
    "print(patient_0.max())"
   ]
  },
  {
   "cell_type": "markdown",
   "metadata": {},
   "source": [
    "We don’t actually need to store the row in a variable of its own. Instead, we can combine the selection and the method call:"
   ]
  },
  {
   "cell_type": "code",
   "execution_count": 34,
   "metadata": {
    "collapsed": false
   },
   "outputs": [
    {
     "name": "stdout",
     "output_type": "stream",
     "text": [
      "[  0.   1.   2.   3.   4.   5.   6.   7.   8.   9.  10.  11.  12.  13.  14.\n",
      "  15.  16.  17.  18.  19.  20.  19.  18.  17.  16.  15.  14.  13.  12.  11.\n",
      "  10.   9.   8.   7.   6.   5.   4.   3.   2.   1.]\n"
     ]
    }
   ],
   "source": [
    "print(p_data.max(axis=0))"
   ]
  },
  {
   "cell_type": "markdown",
   "metadata": {},
   "source": [
    "What if we need the maximum inflammation for all patients, or the average for each day? In this case we need to average across an 'axis' of the array i.e. in x or y if we consider the data as a 2D array.\n",
    "\n",
    "To support this, most array methods allow us to specify the axis we want to work on. If we ask for the average across axis 0 (rows in our 2D example), we get:"
   ]
  },
  {
   "cell_type": "code",
   "execution_count": null,
   "metadata": {
    "collapsed": true
   },
   "outputs": [],
   "source": []
  },
  {
   "cell_type": "markdown",
   "metadata": {},
   "source": [
    "As a quick check, we can ask this array what its shape is:"
   ]
  },
  {
   "cell_type": "code",
   "execution_count": null,
   "metadata": {
    "collapsed": true
   },
   "outputs": [],
   "source": []
  },
  {
   "cell_type": "markdown",
   "metadata": {},
   "source": [
    "The expression `(40,)` tells us we have an N×1 vector, so this is the average inflammation per day for all patients. If we average across axis 1 (columns in our 2D example), we get:"
   ]
  },
  {
   "cell_type": "code",
   "execution_count": 36,
   "metadata": {
    "collapsed": false
   },
   "outputs": [
    {
     "name": "stdout",
     "output_type": "stream",
     "text": [
      "[ 18.  18.  19.  17.  17.  18.  17.  20.  17.  18.  18.  18.  17.  16.  17.\n",
      "  18.  19.  19.  17.  19.  19.  16.  17.  15.  17.  17.  18.  17.  20.  17.\n",
      "  16.  19.  15.  15.  19.  17.  16.  17.  19.  16.  18.  19.  16.  19.  18.\n",
      "  16.  19.  15.  16.  18.  14.  20.  17.  15.  17.  16.  17.  19.  18.  18.]\n"
     ]
    }
   ],
   "source": [
    "print(p_data.max(axis=1))"
   ]
  },
  {
   "cell_type": "markdown",
   "metadata": {},
   "source": [
    "which is the average inflammation per patient across all days.\n",
    "\n",
    "## Matplotlib\n",
    "\n",
    "The mathematician Richard Hamming once said, “The purpose of computing is insight, not numbers,” and the best way to develop insight is often to visualize data. Visualization deserves an entire lecture (or course) of its own, but we can explore a few features of Python’s `matplotlib` library here. While there is no “official” plotting library, this package is the de facto standard. First, we will import the `pyplot` module from `matplotlib` and use two of its functions to create and display a heat map of our data:"
   ]
  },
  {
   "cell_type": "markdown",
   "metadata": {},
   "source": [
    "<section class=\"objectives panel panel-warning\">\n",
    "<div class=\"panel-heading\">\n",
    "<h2><span class=\"fa fa-certificate\"></span> Inline with IPythonNB </h2>\n",
    "</div>\n",
    "<br/>\n",
    "If you’re using an IPython / Jupyter notebook, you’ll need to execute the following command in order for your matplotlib images to appear in the notebook when `show()` is called:\n",
    "\n",
    "`% matplotlib inline`\n",
    "\n",
    "The `%` indicates an IPython magic function - a function that is only valid within the notebook environment. Note that you only have to execute this function once per notebook.\n",
    "</section>"
   ]
  },
  {
   "cell_type": "code",
   "execution_count": 38,
   "metadata": {
    "collapsed": false
   },
   "outputs": [],
   "source": [
    "import matplotlib.pyplot\n",
    "%matplotlib inline"
   ]
  },
  {
   "cell_type": "markdown",
   "metadata": {},
   "source": [
    "Let’s take a look at the average inflammation over time:"
   ]
  },
  {
   "cell_type": "code",
   "execution_count": 41,
   "metadata": {
    "collapsed": false
   },
   "outputs": [
    {
     "data": {
      "image/png": "[encoded data removed]",
      "text/plain": [
       "<matplotlib.figure.Figure at 0xb08fda0>"
      ]
     },
     "metadata": {},
     "output_type": "display_data"
    }
   ],
   "source": [
    "ave_infl = p_data.mean(axis=0)\n",
    "ave_infl_plot = matplotlib.pyplot.plot(ave_infl)"
   ]
  },
  {
   "cell_type": "markdown",
   "metadata": {},
   "source": [
    "Here, we have put the average per day across all patients in the variable `ave_inflammation`, then asked `matplotlib.pyplot` to create and display a line graph of those values. The result is roughly a linear rise and fall, which is suspicious: based on other studies, we expect a sharper rise and slower fall. Let’s have a look at two other statistics:"
   ]
  },
  {
   "cell_type": "code",
   "execution_count": 44,
   "metadata": {
    "collapsed": false
   },
   "outputs": [
    {
     "data": {
      "text/plain": [
       "[<matplotlib.lines.Line2D at 0xb5d4b00>]"
      ]
     },
     "execution_count": 44,
     "metadata": {},
     "output_type": "execute_result"
    },
    {
     "data": {
      "image/png": "[encoded data removed]",
      "text/plain": [
       "<matplotlib.figure.Figure at 0xb339358>"
      ]
     },
     "metadata": {},
     "output_type": "display_data"
    }
   ],
   "source": [
    "max_infl = p_data.max(axis=0)\n",
    "matplotlib.pyplot.plot(max_infl)"
   ]
  },
  {
   "cell_type": "code",
   "execution_count": 45,
   "metadata": {
    "collapsed": false
   },
   "outputs": [
    {
     "data": {
      "text/plain": [
       "[<matplotlib.lines.Line2D at 0xb8406a0>]"
      ]
     },
     "execution_count": 45,
     "metadata": {},
     "output_type": "execute_result"
    },
    {
     "data": {
      "image/png": "[encoded data removed]",
      "text/plain": [
       "<matplotlib.figure.Figure at 0xb5efdd8>"
      ]
     },
     "metadata": {},
     "output_type": "display_data"
    }
   ],
   "source": [
    "min_infl = p_data.min(axis=0)\n",
    "matplotlib.pyplot.plot(min_infl)"
   ]
  },
  {
   "cell_type": "markdown",
   "metadata": {},
   "source": [
    "The maximum value rises and falls perfectly smoothly, while the minimum seems to be a step function. Neither result seems particularly likely, so either there’s a mistake in our calculations or something is wrong with our data."
   ]
  },
  {
   "cell_type": "markdown",
   "metadata": {},
   "source": [
    "### Subplots\n",
    "\n",
    "You can group similar plots in a single figure using subplots. This script below uses a number of new commands. \n",
    "\n",
    "The function `matplotlib.pyplot.figure()` creates a space into which we will place all of our plots. \n",
    "The parameter `figsize` tells Python how big to make this space. Each subplot is placed into the figure using the `subplot` command. The `subplot` command takes 3 parameters. The first denotes how many total rows of subplots there are, the second parameter refers to the total number of subplot columns, and the final parameters denotes which subplot your variable is referencing. \n",
    "\n",
    "Each `subplot` is stored in a different variable (axes1, axes2, axes3). Once a subplot is created, the axes are can be titled using the `set_xlabel()` command (or `set_ylabel()`). Here are our three plots side by side:"
   ]
  },
  {
   "cell_type": "code",
   "execution_count": 59,
   "metadata": {
    "collapsed": false
   },
   "outputs": [
    {
     "data": {
      "image/png": "[encoded data removed]",
      "text/plain": [
       "<matplotlib.figure.Figure at 0xdff9c18>"
      ]
     },
     "metadata": {},
     "output_type": "display_data"
    }
   ],
   "source": [
    "import numpy as np\n",
    "import matplotlib.pyplot as plt\n",
    "\n",
    "p_data = np.loadtxt(fname='data/inflammation-01.csv' , delimiter=',')\n",
    "\n",
    "fig = plt.figure(figsize=(5.0, 10.0))\n",
    "\n",
    "axes1 = fig.add_subplot(3,1,1)\n",
    "axes2 = fig.add_subplot(3,1,2)\n",
    "axes3 = fig.add_subplot(3,1,3)\n",
    "\n",
    "axes1.plot(p_data.mean(axis=0))\n",
    "axes1.set_ylabel('Average')\n",
    "axes1.set_xlabel('Time')\n",
    "\n",
    "axes2.plot(p_data.min(axis=0))\n",
    "axes2.set_ylabel('Minimum')\n",
    "axes2.set_xlabel('Time')\n",
    "\n",
    "axes3.plot(p_data.max(axis=0))\n",
    "axes3.set_ylabel('Maximum')\n",
    "axes3.set_xlabel('Time')\n",
    "\n",
    "fig.tight_layout()"
   ]
  },
  {
   "cell_type": "markdown",
   "metadata": {},
   "source": [
    "The call to `loadtxt` reads our data, and the rest of the program tells the plotting library how large we want the figure to be, that we’re creating three sub-plots, what to draw for each one, and that we want a tight layout. (Perversely, if we leave out that call to `fig.tight_layout()`, the graphs will actually be squeezed together more closely.)"
   ]
  },
  {
   "cell_type": "markdown",
   "metadata": {},
   "source": [
    "<section class=\"objectives panel panel-warning\">\n",
    "<div class=\"panel-heading\">\n",
    "<h2><span class=\"fa fa-certificate\"></span> Scientists dislike typing </h2>\n",
    "</div>\n",
    "<br/>\n",
    "We will always use the syntax `import numpy` to import NumPy. However, in order to save typing, it is often suggested to make a shortcut like so: `import numpy as np`. If you ever see Python code online using a NumPy function with `np` (for example, `np.loadtxt(...)`), it’s because they’ve used this shortcut.\n",
    "\n",
    "</section>"
   ]
  },
  {
   "cell_type": "markdown",
   "metadata": {},
   "source": [
    "<section class=\"objectives panel panel-success\">\n",
    "<div class=\"panel-heading\">\n",
    "<h2><span class=\"fa fa-pencil\"></span> Make your own plot </h2>\n",
    "</div>\n",
    "<br/>\n",
    "What does the following program print out?\n",
    "\n",
    "<pre>\n",
    "\n",
    "first, second = 'Grace', 'Hopper'\n",
    "third, fourth = second, first\n",
    "print third, fourth\n",
    "\n",
    "</pre>\n",
    "\n",
    "</section>"
   ]
  },
  {
   "cell_type": "markdown",
   "metadata": {},
   "source": [
    "<section class=\"objectives panel panel-success\">\n",
    "<div class=\"panel-heading\">\n",
    "<h2><span class=\"fa fa-pencil\"></span> Slicing strings </h2>\n",
    "</div>\n",
    "<br/>\n",
    "A section of an array is called a slice. We can take slices of character strings as well:\n",
    "\n",
    "<pre>\n",
    "element = 'oxygen'\n",
    "print('first three characters:', element[0:3])\n",
    "print('last three characters:', element[3:6])\n",
    "</pre>\n",
    "What is the value of element[:4]? What about element[4:]? Or element[:]?\n",
    "\n",
    "What is element[-1]? What is element[-2]? Given those answers, explain what element[1:-1] does.\n",
    "\n",
    "\n",
    "</section>"
   ]
  },
  {
   "cell_type": "markdown",
   "metadata": {},
   "source": [
    "<section class=\"objectives panel panel-success\">\n",
    "<div class=\"panel-heading\">\n",
    "<h2><span class=\"fa fa-pencil\"></span> Thin Slices </h2>\n",
    "</div>\n",
    "<br/>\n",
    "The expression element[3:3] produces an empty string, i.e., a string that contains no characters. If data holds our array of patient data, what does data[3:3, 4:4] produce? What about data[3:3, :]?\n",
    "\n",
    "</section>"
   ]
  },
  {
   "cell_type": "markdown",
   "metadata": {},
   "source": [
    "<section class=\"objectives panel panel-success\">\n",
    "<div class=\"panel-heading\">\n",
    "<h2><span class=\"fa fa-pencil\"></span> Check your understanding: plot scaling </h2>\n",
    "</div>\n",
    "<br/>\n",
    "Why do all of our plots stop just short of the upper end of our graph?\n",
    "\n",
    "</section>"
   ]
  },
  {
   "cell_type": "markdown",
   "metadata": {},
   "source": [
    "<section class=\"objectives panel panel-success\">\n",
    "<div class=\"panel-heading\">\n",
    "<h2><span class=\"fa fa-pencil\"></span> Check your understanding: drawing straight lines </h2>\n",
    "</div>\n",
    "<br/>\n",
    "Why are the vertical lines in our plot of the minimum inflammation per day not perfectly vertical?\n",
    "\n",
    "</section>"
   ]
  },
  {
   "cell_type": "code",
   "execution_count": null,
   "metadata": {
    "collapsed": true
   },
   "outputs": [],
   "source": []
  },
  {
   "cell_type": "markdown",
   "metadata": {},
   "source": [
    "<section class=\"objectives panel panel-success\">\n",
    "<div class=\"panel-heading\">\n",
    "<h2><span class=\"fa fa-pencil\"></span> Make your own plot </h2>\n",
    "</div>\n",
    "<br/>\n",
    "Create a plot showing the standard deviation (`numpy.std`) of the inflammation data for each day across all patients.\n",
    "\n",
    "</section>"
   ]
  },
  {
   "cell_type": "code",
   "execution_count": null,
   "metadata": {
    "collapsed": true
   },
   "outputs": [],
   "source": []
  },
  {
   "cell_type": "markdown",
   "metadata": {},
   "source": [
    "<section class=\"objectives panel panel-success\">\n",
    "<div class=\"panel-heading\">\n",
    "<h2><span class=\"fa fa-pencil\"></span> Moving plots around </h2>\n",
    "</div>\n",
    "<br/>\n",
    "Modify the program to display the three plots on top of one another instead of side by side.\n",
    "\n",
    "</section>"
   ]
  }
 ],
 "metadata": {
  "kernelspec": {
   "display_name": "Python 2",
   "language": "python",
   "name": "python2"
  },
  "language_info": {
   "codemirror_mode": {
    "name": "ipython",
    "version": 2
   },
   "file_extension": ".py",
   "mimetype": "text/x-python",
   "name": "python",
   "nbconvert_exporter": "python",
   "pygments_lexer": "ipython2",
   "version": "2.7.11"
  }
 },
 "nbformat": 4,
 "nbformat_minor": 0
}
