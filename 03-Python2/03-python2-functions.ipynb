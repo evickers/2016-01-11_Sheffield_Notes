{
 "cells": [
  {
   "cell_type": "markdown",
   "metadata": {},
   "source": [
    "# Introduction to Python 2"
   ]
  },
  {
   "cell_type": "markdown",
   "metadata": {},
   "source": [
    "## Creating Functions"
   ]
  },
  {
   "cell_type": "markdown",
   "metadata": {},
   "source": [
    "<section class=\"objectives panel panel-warning\">\n",
    "<div class=\"panel-heading\">\n",
    "<h3><span class=\"fa fa-certificate\"></span> Learning Objectives: </h3>\n",
    "</div>\n",
    "\n",
    "- Define a function that takes parameters.\n",
    "- Return a value from a function.\n",
    "- Test and debug a function.\n",
    "- Set default values for function parameters.\n",
    "- Explain why we should divide programs into small, single-purpose functions."
   ]
  },
  {
   "cell_type": "markdown",
   "metadata": {},
   "source": [
    "At this point, we’ve written code to draw some interesting features in our inflammation data, loop over all our data files to quickly draw these plots for each of them, and have Python make decisions based on what it sees in our data. But, our code is getting pretty long and complicated; what if we had thousands of datasets, and didn’t want to generate a figure for every single one? Commenting out the figure-drawing code is a nuisance. Also, what if we want to use that code again, on a different dataset or at a different point in our program? Cutting and pasting it is going to make our code get very long and very repetitive, very quickly. We’d like a way to package our code so that it is easier to reuse, and Python provides for this by letting us define things called ‘functions’ - a shorthand way of re-executing longer pieces of code.\n",
    "\n",
    "Let’s start by defining a function `kelvin_to_celsius` that converts temperatures from Kelvin to Celsius:"
   ]
  },
  {
   "cell_type": "code",
   "execution_count": 1,
   "metadata": {
    "collapsed": false
   },
   "outputs": [],
   "source": [
    "# Let's get our import statements out of the way first\n",
    "from __future__ import division, print_function\n",
    "import numpy as np\n",
    "import glob\n",
    "import matplotlib.pyplot as plt\n",
    "%matplotlib inline\n"
   ]
  },
  {
   "cell_type": "code",
   "execution_count": 2,
   "metadata": {
    "collapsed": true
   },
   "outputs": [],
   "source": [
    "def kelvin_to_celcius(temp):\n",
    "    return temp - 273.15"
   ]
  },
  {
   "cell_type": "markdown",
   "metadata": {},
   "source": [
    "The function definition opens with the word `def`, which is followed by the name of the function and a parenthesized list of parameter names. The body of the function — the statements that are executed when it runs — is indented below the definition line, typically by four spaces.\n",
    "\n",
    "When we call the function, the values we pass to it are assigned to those variables so that we can use them inside the function. Inside the function, we use a [return statement](http://swcarpentry.github.io/python-novice-inflammation/reference.html#return-statement) to send a result back to whoever asked for it.\n",
    "\n",
    "Let’s try running our function. Calling our own function is no different from calling any other function:"
   ]
  },
  {
   "cell_type": "code",
   "execution_count": 6,
   "metadata": {
    "collapsed": false
   },
   "outputs": [
    {
     "name": "stdout",
     "output_type": "stream",
     "text": [
      "absolute zero in celcius is -273.15\n"
     ]
    }
   ],
   "source": [
    "print('absolute zero in celcius is', kelvin_to_celcius(0.0))"
   ]
  },
  {
   "cell_type": "markdown",
   "metadata": {},
   "source": [
    "We’ve successfully called the function that we defined, and we have access to the value that we returned."
   ]
  },
  {
   "cell_type": "markdown",
   "metadata": {},
   "source": [
    "### Integer division"
   ]
  },
  {
   "cell_type": "markdown",
   "metadata": {},
   "source": [
    "We are using Python 3 division, which always returns a floating point number:"
   ]
  },
  {
   "cell_type": "code",
   "execution_count": 7,
   "metadata": {
    "collapsed": false
   },
   "outputs": [
    {
     "name": "stdout",
     "output_type": "stream",
     "text": [
      "0.555555555556\n"
     ]
    }
   ],
   "source": [
    "print(5/9)"
   ]
  },
  {
   "cell_type": "markdown",
   "metadata": {},
   "source": [
    "Unfortunately, this wasn’t the case in Python 2:"
   ]
  },
  {
   "cell_type": "code",
   "execution_count": 8,
   "metadata": {
    "collapsed": false
   },
   "outputs": [
    {
     "name": "stderr",
     "output_type": "stream",
     "text": [
      "'python2' is not recognized as an internal or external command,\n",
      "operable program or batch file.\n"
     ]
    }
   ],
   "source": [
    "!python2 -c \" print 5/9\""
   ]
  },
  {
   "cell_type": "markdown",
   "metadata": {},
   "source": [
    "If you are using Python 2 and want to keep the fractional part of division you need to convert one or the other number to floating point:"
   ]
  },
  {
   "cell_type": "code",
   "execution_count": null,
   "metadata": {
    "collapsed": false
   },
   "outputs": [],
   "source": []
  },
  {
   "cell_type": "code",
   "execution_count": null,
   "metadata": {
    "collapsed": false
   },
   "outputs": [],
   "source": []
  },
  {
   "cell_type": "code",
   "execution_count": null,
   "metadata": {
    "collapsed": false
   },
   "outputs": [],
   "source": []
  },
  {
   "cell_type": "code",
   "execution_count": null,
   "metadata": {
    "collapsed": false
   },
   "outputs": [],
   "source": []
  },
  {
   "cell_type": "markdown",
   "metadata": {},
   "source": [
    "And if you want an integer result from division in Python 3, use a double-slash:"
   ]
  },
  {
   "cell_type": "code",
   "execution_count": 9,
   "metadata": {
    "collapsed": false
   },
   "outputs": [
    {
     "data": {
      "text/plain": [
       "0"
      ]
     },
     "execution_count": 9,
     "metadata": {},
     "output_type": "execute_result"
    }
   ],
   "source": [
    "5//9"
   ]
  },
  {
   "cell_type": "code",
   "execution_count": null,
   "metadata": {
    "collapsed": false
   },
   "outputs": [],
   "source": []
  },
  {
   "cell_type": "markdown",
   "metadata": {},
   "source": [
    "### Composing Functions"
   ]
  },
  {
   "cell_type": "markdown",
   "metadata": {},
   "source": [
    "Now that we’ve seen how to turn Kelvin into Celsius, let's try converting Celsius to Fahrenheit:"
   ]
  },
  {
   "cell_type": "code",
   "execution_count": 11,
   "metadata": {
    "collapsed": false
   },
   "outputs": [
    {
     "name": "stdout",
     "output_type": "stream",
     "text": [
      "freezing point of water in fahrenheit  32.0\n",
      "boiling point of water in fahrenheit  212.0\n"
     ]
    }
   ],
   "source": [
    "def celcius_to_fahrenheit(temp):\n",
    "    return temp*(9/5) + 32\n",
    "\n",
    "print('freezing point of water in fahrenheit ', celcius_to_fahrenheit(0))\n",
    "print('boiling point of water in fahrenheit ', celcius_to_fahrenheit(100))"
   ]
  },
  {
   "cell_type": "markdown",
   "metadata": {},
   "source": [
    "What about converting Kelvin to Fahrenheit? We could write out the formula, but we don’t need to. Instead, we can compose the two functions we have already created:"
   ]
  },
  {
   "cell_type": "code",
   "execution_count": 15,
   "metadata": {
    "collapsed": false
   },
   "outputs": [
    {
     "name": "stdout",
     "output_type": "stream",
     "text": [
      "absolute zero in fahrenheit -459.67\n"
     ]
    }
   ],
   "source": [
    "def kelvin_to_fahrenheit(temp):\n",
    "    temp_c = kelvin_to_celcius(temp)\n",
    "    result = celcius_to_fahrenheit(temp_c)\n",
    "    return result\n",
    "\n",
    "print('absolute zero in fahrenheit', kelvin_to_fahrenheit(0))"
   ]
  },
  {
   "cell_type": "markdown",
   "metadata": {},
   "source": [
    "This is our first taste of how larger programs are built: we define basic operations, then combine them in ever-larger chunks to get the effect we want. Real-life functions will usually be larger than the ones shown here — typically half a dozen to a few dozen lines — but they shouldn’t ever be much longer than that, or the next person who reads it won’t be able to understand what’s going on."
   ]
  },
  {
   "cell_type": "markdown",
   "metadata": {},
   "source": [
    "### Tidying up"
   ]
  },
  {
   "cell_type": "markdown",
   "metadata": {},
   "source": [
    "Now that we know how to wrap bits of code up in functions, we can make our inflammation analyasis easier to read and easier to reuse. First, let’s make an `analyse` function that generates our plots:"
   ]
  },
  {
   "cell_type": "code",
   "execution_count": 17,
   "metadata": {
    "collapsed": false
   },
   "outputs": [
    {
     "data": {
      "image/png": "[encoded data removed]",
      "text/plain": [
       "<matplotlib.figure.Figure at 0xaed7eb8>"
      ]
     },
     "metadata": {},
     "output_type": "display_data"
    }
   ],
   "source": [
    "def analyse(filename):\n",
    "    data = np.loadtxt(fname=filename, delimiter=',')\n",
    "    \n",
    "    fig = plt.figure(figsize=(10.0, 3.0))\n",
    "    \n",
    "    axes1 = fig.add_subplot(1, 3, 1)\n",
    "    axes2 = fig.add_subplot(1, 3, 2)\n",
    "    axes3 = fig.add_subplot(1, 3, 3)\n",
    "    \n",
    "    axes1.set_ylabel('average')\n",
    "    axes1.plot(data.mean(axis=0))\n",
    "    \n",
    "    axes2.set_ylabel('maximum')\n",
    "    axes2.plot(data.max(axis=0))\n",
    "    \n",
    "    axes3.set_ylabel('minimum')\n",
    "    axes3.plot(data.min(axis=0))\n",
    "    \n",
    "    fig.tight_layout()\n",
    "    plt.show(fig)\n",
    "    \n",
    "analyse('data/inflammation-01.csv')"
   ]
  },
  {
   "cell_type": "markdown",
   "metadata": {},
   "source": [
    "and another function called `detect_problems` that checks for those systematics we noticed:"
   ]
  },
  {
   "cell_type": "code",
   "execution_count": 21,
   "metadata": {
    "collapsed": false
   },
   "outputs": [
    {
     "name": "stdout",
     "output_type": "stream",
     "text": [
      "suspicious looking maxima\n"
     ]
    }
   ],
   "source": [
    "def detect_problems(filename):\n",
    "    data = np.loadtxt(fname=filename, delimiter=',')\n",
    "    \n",
    "    if data.max(axis=0)[0] == 0 and data.max(axis=0)[20]==20:\n",
    "        print('suspicious looking maxima')\n",
    "    elif data.min(axis=0).sum() == 0:\n",
    "        print('minima sum to zero')\n",
    "    else:\n",
    "        print('seems fine')\n",
    "        \n",
    "detect_problems('data/inflammation-01.csv')"
   ]
  },
  {
   "cell_type": "markdown",
   "metadata": {},
   "source": [
    "Notice that rather than jumbling this code together in one giant `for` loop, we can now read and reuse both ideas separately. We can reproduce the previous analysis with a much simpler `for` loop:"
   ]
  },
  {
   "cell_type": "code",
   "execution_count": 28,
   "metadata": {
    "collapsed": false
   },
   "outputs": [
    {
     "name": "stdout",
     "output_type": "stream",
     "text": [
      "data\\inflammation-07.csv\n"
     ]
    },
    {
     "data": {
      "image/png": "[encoded data removed]",
      "text/plain": [
       "<matplotlib.figure.Figure at 0xbf32518>"
      ]
     },
     "metadata": {},
     "output_type": "display_data"
    },
    {
     "name": "stdout",
     "output_type": "stream",
     "text": [
      "suspicious looking maxima\n",
      "data\\inflammation-08.csv\n"
     ]
    },
    {
     "data": {
      "image/png": "[encoded data removed]",
      "text/plain": [
       "<matplotlib.figure.Figure at 0xb8e0f98>"
      ]
     },
     "metadata": {},
     "output_type": "display_data"
    },
    {
     "name": "stdout",
     "output_type": "stream",
     "text": [
      "minima sum to zero\n",
      "data\\inflammation-09.csv\n"
     ]
    },
    {
     "data": {
      "image/png": "[encoded data removed]",
      "text/plain": [
       "<matplotlib.figure.Figure at 0xbd50f98>"
      ]
     },
     "metadata": {},
     "output_type": "display_data"
    },
    {
     "name": "stdout",
     "output_type": "stream",
     "text": [
      "suspicious looking maxima\n",
      "data\\inflammation-10.csv\n"
     ]
    },
    {
     "data": {
      "image/png": "[encoded data removed]",
      "text/plain": [
       "<matplotlib.figure.Figure at 0xb8efcf8>"
      ]
     },
     "metadata": {},
     "output_type": "display_data"
    },
    {
     "name": "stdout",
     "output_type": "stream",
     "text": [
      "suspicious looking maxima\n",
      "data\\inflammation-11.csv\n"
     ]
    },
    {
     "data": {
      "image/png": "[encoded data removed]",
      "text/plain": [
       "<matplotlib.figure.Figure at 0xb5519e8>"
      ]
     },
     "metadata": {},
     "output_type": "display_data"
    },
    {
     "name": "stdout",
     "output_type": "stream",
     "text": [
      "minima sum to zero\n",
      "data\\inflammation-12.csv\n"
     ]
    },
    {
     "data": {
      "image/png": "[encoded data removed]",
      "text/plain": [
       "<matplotlib.figure.Figure at 0xb303f28>"
      ]
     },
     "metadata": {},
     "output_type": "display_data"
    },
    {
     "name": "stdout",
     "output_type": "stream",
     "text": [
      "suspicious looking maxima\n"
     ]
    }
   ],
   "source": [
    "# First redefine our list of filenames from the last lesson\n",
    "filenames = sorted(glob.glob('data/inflammation*.csv'))\n",
    "for f in filenames [6:]:\n",
    "    print(f)\n",
    "    analyse(f)\n",
    "    detect_problems(f)\n"
   ]
  },
  {
   "cell_type": "markdown",
   "metadata": {},
   "source": [
    "By giving our functions human-readable names, we can more easily read and understand what is happening in the `for` loop. Even better, if at some later date we want to use either of those pieces of code again, we can do so in a single line."
   ]
  },
  {
   "cell_type": "markdown",
   "metadata": {},
   "source": [
    "### Testing and Documenting"
   ]
  },
  {
   "cell_type": "markdown",
   "metadata": {},
   "source": [
    "Once we start putting things in functions so that we can re-use them, we need to start testing that those functions are working correctly. To see how to do this, let’s write a function to center a dataset around a particular value:"
   ]
  },
  {
   "cell_type": "code",
   "execution_count": 29,
   "metadata": {
    "collapsed": true
   },
   "outputs": [],
   "source": [
    "def centre(data, desired):\n",
    "    return (data - data.mean()) + desired"
   ]
  },
  {
   "cell_type": "markdown",
   "metadata": {},
   "source": [
    "We could test this on our actual data, but since we don’t know what the values ought to be, it will be hard to tell if the result was correct. Instead, let’s use NumPy to create a matrix of 0’s and then center that around 3:"
   ]
  },
  {
   "cell_type": "code",
   "execution_count": 30,
   "metadata": {
    "collapsed": false
   },
   "outputs": [
    {
     "name": "stdout",
     "output_type": "stream",
     "text": [
      "[[ 0.  0.]\n",
      " [ 0.  0.]]\n",
      "[[ 3.  3.]\n",
      " [ 3.  3.]]\n"
     ]
    }
   ],
   "source": [
    "z = np.zeros((2,2))\n",
    "print(z)\n",
    "print(centre(z,3))"
   ]
  },
  {
   "cell_type": "markdown",
   "metadata": {},
   "source": [
    "That looks right, so let’s try `center` on our real data:"
   ]
  },
  {
   "cell_type": "code",
   "execution_count": 31,
   "metadata": {
    "collapsed": false
   },
   "outputs": [
    {
     "name": "stdout",
     "output_type": "stream",
     "text": [
      "[[-6.14875 -6.14875 -5.14875 ..., -3.14875 -6.14875 -6.14875]\n",
      " [-6.14875 -5.14875 -4.14875 ..., -5.14875 -6.14875 -5.14875]\n",
      " [-6.14875 -5.14875 -5.14875 ..., -4.14875 -5.14875 -5.14875]\n",
      " ..., \n",
      " [-6.14875 -5.14875 -5.14875 ..., -5.14875 -5.14875 -5.14875]\n",
      " [-6.14875 -6.14875 -6.14875 ..., -6.14875 -4.14875 -6.14875]\n",
      " [-6.14875 -6.14875 -5.14875 ..., -5.14875 -5.14875 -6.14875]]\n"
     ]
    }
   ],
   "source": [
    "data = np.loadtxt(fname='data/inflammation-01.csv', delimiter=',')\n",
    "print(centre(data,0))"
   ]
  },
  {
   "cell_type": "markdown",
   "metadata": {},
   "source": [
    "It’s hard to tell from the default output whether the result is correct, but there are a few simple tests that will reassure us:"
   ]
  },
  {
   "cell_type": "code",
   "execution_count": 34,
   "metadata": {
    "collapsed": false
   },
   "outputs": [
    {
     "name": "stdout",
     "output_type": "stream",
     "text": [
      "original min, mean and max are 0.0 6.14875 20.0\n",
      "min, mean and max of centred data are -6.14875 2.84217094304e-16 13.85125\n"
     ]
    }
   ],
   "source": [
    "print('original min, mean and max are', data.min(), data.mean(), data.max())\n",
    "centred= centre(data,0)\n",
    "print('min, mean and max of centred data are', centred.min(), centred.mean(), centred.max())"
   ]
  },
  {
   "cell_type": "markdown",
   "metadata": {},
   "source": [
    "That seems almost right: the original mean was about 6.1, so the lower bound from zero is how about -6.1. The mean of the centered data isn’t quite zero — we’ll explore why not in the challenges — but it’s pretty close. We can even go further and check that the standard deviation hasn’t changed:"
   ]
  },
  {
   "cell_type": "code",
   "execution_count": 35,
   "metadata": {
    "collapsed": false
   },
   "outputs": [
    {
     "name": "stdout",
     "output_type": "stream",
     "text": [
      "standard deviation before and after: 4.61383319712 4.61383319712\n"
     ]
    }
   ],
   "source": [
    "print( 'standard deviation before and after:', data.std(), centred.std())"
   ]
  },
  {
   "cell_type": "markdown",
   "metadata": {},
   "source": [
    "Those values look the same, but we probably wouldn’t notice if they were different in the sixth decimal place. Let’s do this instead:"
   ]
  },
  {
   "cell_type": "code",
   "execution_count": 36,
   "metadata": {
    "collapsed": false
   },
   "outputs": [
    {
     "name": "stdout",
     "output_type": "stream",
     "text": [
      "difference in standard deviation is 0.0\n"
     ]
    }
   ],
   "source": [
    "print('difference in standard deviation is', data.std() - centred.std())"
   ]
  },
  {
   "cell_type": "markdown",
   "metadata": {},
   "source": [
    "Again, the difference is very small. It’s still possible that our function is wrong, but it seems unlikely enough that we should probably get back to doing our analysis. We have one more task first, though: we should write some [documentation](http://swcarpentry.github.io/python-novice-inflammation/reference.html#documentation) for our function to remind ourselves later what it’s for and how to use it.\n",
    "\n",
    "The usual way to put documentation in software is to add [comments](http://swcarpentry.github.io/python-novice-inflammation/reference.html#comment) like this:"
   ]
  },
  {
   "cell_type": "code",
   "execution_count": 37,
   "metadata": {
    "collapsed": true
   },
   "outputs": [],
   "source": [
    "# centre(data, desired): return a new array containing the original data centered around the desired value.\n",
    "def centre(data, desired):\n",
    "    return (data - data.mean()) + desired"
   ]
  },
  {
   "cell_type": "markdown",
   "metadata": {},
   "source": [
    "There’s a better way, though. If the first thing in a function is a string that isn’t assigned to a variable, that string is attached to the function as its documentation:"
   ]
  },
  {
   "cell_type": "code",
   "execution_count": 41,
   "metadata": {
    "collapsed": true
   },
   "outputs": [],
   "source": [
    "def centre(data, desired):\n",
    "    \"\"\"Return a new array containing original data centred around desired value\"\"\"\n",
    "    #three quotation marks to make a 'docstring'\n",
    "    return (data - data.mean()) + desired"
   ]
  },
  {
   "cell_type": "markdown",
   "metadata": {},
   "source": [
    "This is better because we can now ask Python’s built-in help system to show us the documentation for the function:"
   ]
  },
  {
   "cell_type": "code",
   "execution_count": 39,
   "metadata": {
    "collapsed": false
   },
   "outputs": [
    {
     "name": "stdout",
     "output_type": "stream",
     "text": [
      "Help on function centre in module __main__:\n",
      "\n",
      "centre(data, desired)\n",
      "    Return a new array containing original data centred around desired value\n",
      "\n"
     ]
    }
   ],
   "source": [
    "help(centre)"
   ]
  },
  {
   "cell_type": "markdown",
   "metadata": {},
   "source": [
    "A string like this is called a [docstring](http://swcarpentry.github.io/python-novice-inflammation/reference.html#docstring). We don’t need to use triple quotes when we write one, but if we do, we can break the string across multiple lines:"
   ]
  },
  {
   "cell_type": "code",
   "execution_count": null,
   "metadata": {
    "collapsed": false
   },
   "outputs": [],
   "source": []
  },
  {
   "cell_type": "markdown",
   "metadata": {},
   "source": [
    "### Defining Defaults"
   ]
  },
  {
   "cell_type": "markdown",
   "metadata": {},
   "source": [
    "We have passed parameters to functions in two ways: directly, as in `type(data)`, and by name, as in `numpy.loadtxt(fname='something.csv', delimiter=',')`. In fact, we can pass the filename to `loadtxt` without the `fname=`:"
   ]
  },
  {
   "cell_type": "code",
   "execution_count": 42,
   "metadata": {
    "collapsed": false
   },
   "outputs": [
    {
     "data": {
      "text/plain": [
       "array([[ 0.,  0.,  1., ...,  3.,  0.,  0.],\n",
       "       [ 0.,  1.,  2., ...,  1.,  0.,  1.],\n",
       "       [ 0.,  1.,  1., ...,  2.,  1.,  1.],\n",
       "       ..., \n",
       "       [ 0.,  1.,  1., ...,  1.,  1.,  1.],\n",
       "       [ 0.,  0.,  0., ...,  0.,  2.,  0.],\n",
       "       [ 0.,  0.,  1., ...,  1.,  1.,  0.]])"
      ]
     },
     "execution_count": 42,
     "metadata": {},
     "output_type": "execute_result"
    }
   ],
   "source": [
    "np.loadtxt('data/inflammation-01.csv', delimiter=',')"
   ]
  },
  {
   "cell_type": "markdown",
   "metadata": {},
   "source": [
    "but we still need to say `delimiter=`:"
   ]
  },
  {
   "cell_type": "code",
   "execution_count": 45,
   "metadata": {
    "collapsed": false
   },
   "outputs": [
    {
     "ename": "TypeError",
     "evalue": "data type \",\" not understood",
     "output_type": "error",
     "traceback": [
      "\u001b[1;31m---------------------------------------------------------------------------\u001b[0m",
      "\u001b[1;31mTypeError\u001b[0m                                 Traceback (most recent call last)",
      "\u001b[1;32m<ipython-input-45-903dc8802ec3>\u001b[0m in \u001b[0;36m<module>\u001b[1;34m()\u001b[0m\n\u001b[1;32m----> 1\u001b[1;33m \u001b[0mnp\u001b[0m\u001b[1;33m.\u001b[0m\u001b[0mloadtxt\u001b[0m\u001b[1;33m(\u001b[0m\u001b[1;34m'data/inflammation-01.csv'\u001b[0m\u001b[1;33m,\u001b[0m \u001b[1;34m','\u001b[0m\u001b[1;33m)\u001b[0m\u001b[1;33m\u001b[0m\u001b[0m\n\u001b[0m",
      "\u001b[1;32mC:\\Users\\Ellie\\Anaconda2\\lib\\site-packages\\numpy\\lib\\npyio.pyc\u001b[0m in \u001b[0;36mloadtxt\u001b[1;34m(fname, dtype, comments, delimiter, converters, skiprows, usecols, unpack, ndmin)\u001b[0m\n\u001b[0;32m    871\u001b[0m     \u001b[1;32mtry\u001b[0m\u001b[1;33m:\u001b[0m\u001b[1;33m\u001b[0m\u001b[0m\n\u001b[0;32m    872\u001b[0m         \u001b[1;31m# Make sure we're dealing with a proper dtype\u001b[0m\u001b[1;33m\u001b[0m\u001b[1;33m\u001b[0m\u001b[0m\n\u001b[1;32m--> 873\u001b[1;33m         \u001b[0mdtype\u001b[0m \u001b[1;33m=\u001b[0m \u001b[0mnp\u001b[0m\u001b[1;33m.\u001b[0m\u001b[0mdtype\u001b[0m\u001b[1;33m(\u001b[0m\u001b[0mdtype\u001b[0m\u001b[1;33m)\u001b[0m\u001b[1;33m\u001b[0m\u001b[0m\n\u001b[0m\u001b[0;32m    874\u001b[0m         \u001b[0mdefconv\u001b[0m \u001b[1;33m=\u001b[0m \u001b[0m_getconv\u001b[0m\u001b[1;33m(\u001b[0m\u001b[0mdtype\u001b[0m\u001b[1;33m)\u001b[0m\u001b[1;33m\u001b[0m\u001b[0m\n\u001b[0;32m    875\u001b[0m \u001b[1;33m\u001b[0m\u001b[0m\n",
      "\u001b[1;31mTypeError\u001b[0m: data type \",\" not understood"
     ]
    }
   ],
   "source": [
    "np.loadtxt('data/inflammation-01.csv', ',')"
   ]
  },
  {
   "cell_type": "markdown",
   "metadata": {},
   "source": [
    "To understand what’s going on, and make our own functions easier to use, let’s re-define our center function like this:"
   ]
  },
  {
   "cell_type": "code",
   "execution_count": 46,
   "metadata": {
    "collapsed": true
   },
   "outputs": [],
   "source": [
    "def centre(data, desired=0.0):\n",
    "    return (data - data.mean()) + desired"
   ]
  },
  {
   "cell_type": "markdown",
   "metadata": {},
   "source": [
    "The key change is that the second parameter is now written `desired=0.0` instead of just `desired`. If we call the function with two arguments, it works as it did before:"
   ]
  },
  {
   "cell_type": "code",
   "execution_count": 51,
   "metadata": {
    "collapsed": false
   },
   "outputs": [
    {
     "name": "stdout",
     "output_type": "stream",
     "text": [
      "[[ 3.  3.]\n",
      " [ 3.  3.]]\n"
     ]
    }
   ],
   "source": [
    "test_data = np.zeros((2,2))\n",
    "print(centre(test_data, 3))"
   ]
  },
  {
   "cell_type": "markdown",
   "metadata": {},
   "source": [
    "But we can also now call it with just one parameter, in which case `desired` is automatically assigned the [default value](http://swcarpentry.github.io/python-novice-inflammation/reference.html#default-value) of 0.0:"
   ]
  },
  {
   "cell_type": "code",
   "execution_count": 52,
   "metadata": {
    "collapsed": false
   },
   "outputs": [
    {
     "name": "stdout",
     "output_type": "stream",
     "text": [
      "[[ 0.  0.]\n",
      " [ 0.  0.]]\n"
     ]
    }
   ],
   "source": [
    "test_data = np.zeros((2,2))\n",
    "print(centre(test_data))"
   ]
  },
  {
   "cell_type": "markdown",
   "metadata": {},
   "source": [
    "This is handy: if we usually want a function to work one way, but occasionally need it to do something else, we can allow people to pass a parameter when they need to but provide a default to make the normal case easier. The example below shows how Python matches values to parameters:"
   ]
  },
  {
   "cell_type": "code",
   "execution_count": 60,
   "metadata": {
    "collapsed": false
   },
   "outputs": [
    {
     "name": "stdout",
     "output_type": "stream",
     "text": [
      "a: 1 b: 2 c: 3\n",
      "no parameters None\n",
      "a: 12 b: 3 c: 3\n",
      "two parameters None\n",
      "a: 1 b: 2 c: 100\n",
      "specific parameters None\n"
     ]
    }
   ],
   "source": [
    "def display(a=1, b=2, c=3):\n",
    "    print('a:', a, 'b:', b, 'c:', c)\n",
    "    \n",
    "print('no parameters', display())\n",
    "print('two parameters', display(12, 3))\n",
    "print('specific parameters', display(c=100))"
   ]
  },
  {
   "cell_type": "markdown",
   "metadata": {},
   "source": [
    "As this example shows, parameters are matched up from left to right, and any that haven’t been given a value explicitly get their default value. We can override this behavior by naming the value as we pass it in:"
   ]
  },
  {
   "cell_type": "code",
   "execution_count": null,
   "metadata": {
    "collapsed": false
   },
   "outputs": [],
   "source": []
  },
  {
   "cell_type": "markdown",
   "metadata": {},
   "source": [
    "With that in hand, let’s look at the help for numpy.loadtxt:"
   ]
  },
  {
   "cell_type": "code",
   "execution_count": 64,
   "metadata": {
    "collapsed": false
   },
   "outputs": [
    {
     "name": "stdout",
     "output_type": "stream",
     "text": [
      "Help on function loadtxt in module numpy.lib.npyio:\n",
      "\n",
      "loadtxt(fname, dtype=<type 'float'>, comments='#', delimiter=None, converters=None, skiprows=0, usecols=None, unpack=False, ndmin=0)\n",
      "    Load data from a text file.\n",
      "    \n",
      "    Each row in the text file must have the same number of values.\n",
      "    \n",
      "    Parameters\n",
      "    ----------\n",
      "    fname : file or str\n",
      "        File, filename, or generator to read.  If the filename extension is\n",
      "        ``.gz`` or ``.bz2``, the file is first decompressed. Note that\n",
      "        generators should return byte strings for Python 3k.\n",
      "    dtype : data-type, optional\n",
      "        Data-type of the resulting array; default: float.  If this is a\n",
      "        structured data-type, the resulting array will be 1-dimensional, and\n",
      "        each row will be interpreted as an element of the array.  In this\n",
      "        case, the number of columns used must match the number of fields in\n",
      "        the data-type.\n",
      "    comments : str or sequence, optional\n",
      "        The characters or list of characters used to indicate the start of a\n",
      "        comment;\n",
      "        default: '#'.\n",
      "    delimiter : str, optional\n",
      "        The string used to separate values.  By default, this is any\n",
      "        whitespace.\n",
      "    converters : dict, optional\n",
      "        A dictionary mapping column number to a function that will convert\n",
      "        that column to a float.  E.g., if column 0 is a date string:\n",
      "        ``converters = {0: datestr2num}``.  Converters can also be used to\n",
      "        provide a default value for missing data (but see also `genfromtxt`):\n",
      "        ``converters = {3: lambda s: float(s.strip() or 0)}``.  Default: None.\n",
      "    skiprows : int, optional\n",
      "        Skip the first `skiprows` lines; default: 0.\n",
      "    usecols : sequence, optional\n",
      "        Which columns to read, with 0 being the first.  For example,\n",
      "        ``usecols = (1,4,5)`` will extract the 2nd, 5th and 6th columns.\n",
      "        The default, None, results in all columns being read.\n",
      "    unpack : bool, optional\n",
      "        If True, the returned array is transposed, so that arguments may be\n",
      "        unpacked using ``x, y, z = loadtxt(...)``.  When used with a structured\n",
      "        data-type, arrays are returned for each field.  Default is False.\n",
      "    ndmin : int, optional\n",
      "        The returned array will have at least `ndmin` dimensions.\n",
      "        Otherwise mono-dimensional axes will be squeezed.\n",
      "        Legal values: 0 (default), 1 or 2.\n",
      "    \n",
      "        .. versionadded:: 1.6.0\n",
      "    \n",
      "    Returns\n",
      "    -------\n",
      "    out : ndarray\n",
      "        Data read from the text file.\n",
      "    \n",
      "    See Also\n",
      "    --------\n",
      "    load, fromstring, fromregex\n",
      "    genfromtxt : Load data with missing values handled as specified.\n",
      "    scipy.io.loadmat : reads MATLAB data files\n",
      "    \n",
      "    Notes\n",
      "    -----\n",
      "    This function aims to be a fast reader for simply formatted files.  The\n",
      "    `genfromtxt` function provides more sophisticated handling of, e.g.,\n",
      "    lines with missing values.\n",
      "    \n",
      "    .. versionadded:: 1.10.0\n",
      "    \n",
      "    The strings produced by the Python float.hex method can be used as\n",
      "    input for floats.\n",
      "    \n",
      "    Examples\n",
      "    --------\n",
      "    >>> from io import StringIO   # StringIO behaves like a file object\n",
      "    >>> c = StringIO(\"0 1\\n2 3\")\n",
      "    >>> np.loadtxt(c)\n",
      "    array([[ 0.,  1.],\n",
      "           [ 2.,  3.]])\n",
      "    \n",
      "    >>> d = StringIO(\"M 21 72\\nF 35 58\")\n",
      "    >>> np.loadtxt(d, dtype={'names': ('gender', 'age', 'weight'),\n",
      "    ...                      'formats': ('S1', 'i4', 'f4')})\n",
      "    array([('M', 21, 72.0), ('F', 35, 58.0)],\n",
      "          dtype=[('gender', '|S1'), ('age', '<i4'), ('weight', '<f4')])\n",
      "    \n",
      "    >>> c = StringIO(\"1,0,2\\n3,0,4\")\n",
      "    >>> x, y = np.loadtxt(c, delimiter=',', usecols=(0, 2), unpack=True)\n",
      "    >>> x\n",
      "    array([ 1.,  3.])\n",
      "    >>> y\n",
      "    array([ 2.,  4.])\n",
      "\n"
     ]
    }
   ],
   "source": [
    "help(np.loadtxt)"
   ]
  },
  {
   "cell_type": "markdown",
   "metadata": {},
   "source": [
    "There’s a lot of information here, but the most important part is the first couple of lines:"
   ]
  },
  {
   "cell_type": "markdown",
   "metadata": {
    "collapsed": false
   },
   "source": [
    "<pre>loadtxt(fname, dtype=<type 'float'>, comments='#', delimiter=None, converters=None, skiprows=0, usecols=None,\n",
    "        unpack=False, ndmin=0)</pre>"
   ]
  },
  {
   "cell_type": "markdown",
   "metadata": {},
   "source": [
    "This tells us that loadtxt has one parameter called fname that doesn’t have a default value, and eight others that do. If we call the function like this:"
   ]
  },
  {
   "cell_type": "code",
   "execution_count": 65,
   "metadata": {
    "collapsed": false
   },
   "outputs": [
    {
     "ename": "TypeError",
     "evalue": "data type \",\" not understood",
     "output_type": "error",
     "traceback": [
      "\u001b[1;31m---------------------------------------------------------------------------\u001b[0m",
      "\u001b[1;31mTypeError\u001b[0m                                 Traceback (most recent call last)",
      "\u001b[1;32m<ipython-input-65-903dc8802ec3>\u001b[0m in \u001b[0;36m<module>\u001b[1;34m()\u001b[0m\n\u001b[1;32m----> 1\u001b[1;33m \u001b[0mnp\u001b[0m\u001b[1;33m.\u001b[0m\u001b[0mloadtxt\u001b[0m\u001b[1;33m(\u001b[0m\u001b[1;34m'data/inflammation-01.csv'\u001b[0m\u001b[1;33m,\u001b[0m \u001b[1;34m','\u001b[0m\u001b[1;33m)\u001b[0m\u001b[1;33m\u001b[0m\u001b[0m\n\u001b[0m",
      "\u001b[1;32mC:\\Users\\Ellie\\Anaconda2\\lib\\site-packages\\numpy\\lib\\npyio.pyc\u001b[0m in \u001b[0;36mloadtxt\u001b[1;34m(fname, dtype, comments, delimiter, converters, skiprows, usecols, unpack, ndmin)\u001b[0m\n\u001b[0;32m    871\u001b[0m     \u001b[1;32mtry\u001b[0m\u001b[1;33m:\u001b[0m\u001b[1;33m\u001b[0m\u001b[0m\n\u001b[0;32m    872\u001b[0m         \u001b[1;31m# Make sure we're dealing with a proper dtype\u001b[0m\u001b[1;33m\u001b[0m\u001b[1;33m\u001b[0m\u001b[0m\n\u001b[1;32m--> 873\u001b[1;33m         \u001b[0mdtype\u001b[0m \u001b[1;33m=\u001b[0m \u001b[0mnp\u001b[0m\u001b[1;33m.\u001b[0m\u001b[0mdtype\u001b[0m\u001b[1;33m(\u001b[0m\u001b[0mdtype\u001b[0m\u001b[1;33m)\u001b[0m\u001b[1;33m\u001b[0m\u001b[0m\n\u001b[0m\u001b[0;32m    874\u001b[0m         \u001b[0mdefconv\u001b[0m \u001b[1;33m=\u001b[0m \u001b[0m_getconv\u001b[0m\u001b[1;33m(\u001b[0m\u001b[0mdtype\u001b[0m\u001b[1;33m)\u001b[0m\u001b[1;33m\u001b[0m\u001b[0m\n\u001b[0;32m    875\u001b[0m \u001b[1;33m\u001b[0m\u001b[0m\n",
      "\u001b[1;31mTypeError\u001b[0m: data type \",\" not understood"
     ]
    }
   ],
   "source": [
    "np.loadtxt('data/inflammation-01.csv', ',')"
   ]
  },
  {
   "cell_type": "markdown",
   "metadata": {},
   "source": [
    "then the filename is assigned to `fname` (which is what we want), but the delimiter string `','` is assigned to `dtype` rather than `delimiter`, because `dtype` is the second parameter in the list. However ',' isn’t a known `dtype` so our code produced an error message when we tried to run it. When we call `loadtxt` we don’t have to provide `fname=` for the filename because it’s the first item in the list, but if we want the ',' to be assigned to the variable `delimiter`, we _do_ have to provide `delimiter=` for the second parameter since `delimiter` is not the second parameter in the list."
   ]
  },
  {
   "cell_type": "markdown",
   "metadata": {},
   "source": [
    "<section class=\"challenge panel panel-success\">\n",
    "<div class=\"panel-heading\">\n",
    "<h2 id=\"combining-strings\"><span class=\"fa fa-pencil\"></span>Combining strings</h2>\n",
    "</div>\n",
    "\n",
    "<div class=\"panel-body\">\n",
    "<p>“Adding” two strings produces their concatenation: <code>'a' + 'b'</code> is <code>'ab'</code>. Write a function called <code>fence</code> that takes two parameters called <code>original</code> and <code>wrapper</code> and returns a new string that has the wrapper character at the beginning and end of the original. A call to your function should look like this:</p>\n",
    "<div class=\"sourceCode\"><pre class=\"sourceCode python\"><code class=\"sourceCode python\"><span class=\"bu\">print</span>(fence(<span class=\"st\">'name'</span>, <span class=\"st\">'*'</span>))</code></pre></div>\n",
    "<pre class=\"output\"><code>&#42;name&#42;</code></pre>\n",
    "</div>\n",
    "</section>"
   ]
  },
  {
   "cell_type": "code",
   "execution_count": 66,
   "metadata": {
    "collapsed": true
   },
   "outputs": [],
   "source": [
    "def fence(original, wrapper):\n",
    "    return wrapper + original + wrapper"
   ]
  },
  {
   "cell_type": "code",
   "execution_count": 67,
   "metadata": {
    "collapsed": false
   },
   "outputs": [
    {
     "name": "stdout",
     "output_type": "stream",
     "text": [
      "dogcatdog\n"
     ]
    }
   ],
   "source": [
    "print(fence('cat', 'dog'))"
   ]
  },
  {
   "cell_type": "markdown",
   "metadata": {},
   "source": [
    "<section class=\"challenge panel panel-success\">\n",
    "<div class=\"panel-heading\">\n",
    "<h2 id=\"selecting-characters-from-strings\"><span class=\"fa fa-pencil\"></span>Selecting characters from strings</h2>\n",
    "</div>\n",
    "<div class=\"panel-body\">\n",
    "<p>If the variable <code>s</code> refers to a string, then <code>s[0]</code> is the string’s first character and <code>s[-1]</code> is its last. Write a function called <code>outer</code> that returns a string made up of just the first and last characters of its input. A call to your function should look like this:</p>\n",
    "<div class=\"sourceCode\"><pre class=\"sourceCode python\"><code class=\"sourceCode python\"><span class=\"bu\">print</span>(outer(<span class=\"st\">'helium'</span>))</code></pre></div>\n",
    "<pre class=\"output\"><code>hm</code></pre>\n",
    "</div>\n",
    "</section>"
   ]
  },
  {
   "cell_type": "code",
   "execution_count": 71,
   "metadata": {
    "collapsed": false
   },
   "outputs": [
    {
     "name": "stdout",
     "output_type": "stream",
     "text": [
      "hm\n"
     ]
    }
   ],
   "source": [
    "def outer(s):\n",
    "    return s[0] + s[-1]\n",
    "    \n",
    "print(outer('helium'))"
   ]
  },
  {
   "cell_type": "markdown",
   "metadata": {},
   "source": [
    "<section class=\"challenges panel panel-success\">\n",
    "<div class=\"panel-heading\">\n",
    "<h3><span class=\"fa fa-pencil\"></span> Rescaling an array </h3>\n",
    "</div>\n",
    "\n",
    "Write a function `rescale` that takes an array as input and returns a corresponding array of values scaled to lie in the range 0.0 to 1.0. (Hint: If L and H are the lowest and highest values in the original array, then the replacement for a value v should be (v − L)/(H − L).)\n",
    "</section>"
   ]
  },
  {
   "cell_type": "code",
   "execution_count": 75,
   "metadata": {
    "collapsed": false
   },
   "outputs": [
    {
     "ename": "NameError",
     "evalue": "name 'array' is not defined",
     "output_type": "error",
     "traceback": [
      "\u001b[1;31m---------------------------------------------------------------------------\u001b[0m",
      "\u001b[1;31mNameError\u001b[0m                                 Traceback (most recent call last)",
      "\u001b[1;32m<ipython-input-75-fe20adc9e448>\u001b[0m in \u001b[0;36m<module>\u001b[1;34m()\u001b[0m\n\u001b[0;32m      6\u001b[0m     \u001b[1;32mreturn\u001b[0m \u001b[0mscaled_array\u001b[0m\u001b[1;33m\u001b[0m\u001b[0m\n\u001b[0;32m      7\u001b[0m \u001b[1;33m\u001b[0m\u001b[0m\n\u001b[1;32m----> 8\u001b[1;33m \u001b[0mbob\u001b[0m \u001b[1;33m=\u001b[0m \u001b[0marray\u001b[0m\u001b[1;33m(\u001b[0m\u001b[1;33m(\u001b[0m\u001b[1;36m1\u001b[0m\u001b[1;33m,\u001b[0m \u001b[1;36m2\u001b[0m\u001b[1;33m,\u001b[0m \u001b[1;36m3\u001b[0m\u001b[1;33m)\u001b[0m\u001b[1;33m,\u001b[0m \u001b[1;33m(\u001b[0m\u001b[1;36m1\u001b[0m\u001b[1;33m,\u001b[0m \u001b[1;36m4\u001b[0m\u001b[1;33m,\u001b[0m \u001b[1;36m5\u001b[0m\u001b[1;33m)\u001b[0m\u001b[1;33m)\u001b[0m\u001b[1;33m\u001b[0m\u001b[0m\n\u001b[0m\u001b[0;32m      9\u001b[0m \u001b[1;32mprint\u001b[0m\u001b[1;33m(\u001b[0m\u001b[0mbob\u001b[0m\u001b[1;33m)\u001b[0m\u001b[1;33m\u001b[0m\u001b[0m\n",
      "\u001b[1;31mNameError\u001b[0m: name 'array' is not defined"
     ]
    }
   ],
   "source": [
    "def rescale(array):\n",
    "    L = array.min()\n",
    "    H = array.max()\n",
    "    \n",
    "    scaled_array = (array - L)/(H-L)\n",
    "    return scaled_array\n",
    "\n",
    "bob = array((1, 2, 3), (1, 4, 5))\n",
    "print(bob)"
   ]
  },
  {
   "cell_type": "markdown",
   "metadata": {},
   "source": [
    "<section class=\"challenges panel panel-success\">\n",
    "<div class=\"panel-heading\">\n",
    "<h3><span class=\"fa fa-pencil\"></span> Testing and documenting your function </h3>\n",
    "</div>\n",
    "\n",
    "Run the commands `help(numpy.arange)` and `help(numpy.linspace)` to see how to use these functions to generate regularly-spaced values, then use those values to test your `rescale` function. Once you’ve successfully tested your function, add a docstring that explains what it does.\n",
    "\n",
    "</section>"
   ]
  },
  {
   "cell_type": "markdown",
   "metadata": {},
   "source": [
    "<section class=\"challenges panel panel-success\">\n",
    "<div class=\"panel-heading\">\n",
    "<h3><span class=\"fa fa-pencil\"></span> Defining defaults </h3>\n",
    "</div>\n",
    "\n",
    "Rewrite the `rescale` function so that it scales data to lie between 0.0 and 1.0 by default, but will allow the caller to specify lower and upper bounds if they want. Compare your implementation to your neighbor’s: do the two functions always behave the same way?\n",
    "\n",
    "</section>"
   ]
  },
  {
   "cell_type": "markdown",
   "metadata": {},
   "source": [
    "<section class=\"challenge panel panel-success\">\n",
    "<div class=\"panel-heading\">\n",
    "<h2 id=\"variables-inside-and-outside-functions\"><span class=\"fa fa-pencil\"></span>Variables inside and outside functions</h2>\n",
    "</div>\n",
    "<div class=\"panel-body\">\n",
    "<p>What does the following piece of code display when run - and why?</p>\n",
    "<div class=\"sourceCode\"><pre class=\"sourceCode python\"><code class=\"sourceCode python\">f <span class=\"op\">=</span> <span class=\"dv\">0</span>\n",
    "k <span class=\"op\">=</span> <span class=\"dv\">0</span>\n",
    "\n",
    "<span class=\"kw\">def</span> f2k(f):\n",
    "  k <span class=\"op\">=</span> ((f<span class=\"dv\">-32</span>)<span class=\"op\">*</span>(<span class=\"fl\">5.0</span><span class=\"op\">/</span><span class=\"fl\">9.0</span>)) <span class=\"op\">+</span> <span class=\"fl\">273.15</span>\n",
    "  <span class=\"cf\">return</span> k\n",
    "\n",
    "f2k(<span class=\"dv\">8</span>)\n",
    "f2k(<span class=\"dv\">41</span>)\n",
    "f2k(<span class=\"dv\">32</span>)\n",
    "\n",
    "<span class=\"bu\">print</span>(k)</code></pre></div>\n",
    "</div>\n",
    "</section>"
   ]
  }
 ],
 "metadata": {
  "kernelspec": {
   "display_name": "Python 2",
   "language": "python",
   "name": "python2"
  },
  "language_info": {
   "codemirror_mode": {
    "name": "ipython",
    "version": 2
   },
   "file_extension": ".py",
   "mimetype": "text/x-python",
   "name": "python",
   "nbconvert_exporter": "python",
   "pygments_lexer": "ipython2",
   "version": "2.7.11"
  }
 },
 "nbformat": 4,
 "nbformat_minor": 0
}
